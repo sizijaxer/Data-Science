{
  "nbformat": 4,
  "nbformat_minor": 0,
  "metadata": {
    "colab": {
      "name": "DS_HW3.ipynb",
      "provenance": []
    },
    "kernelspec": {
      "name": "python3",
      "display_name": "Python 3"
    },
    "language_info": {
      "name": "python"
    },
    "accelerator": "GPU"
  },
  "cells": [
    {
      "cell_type": "code",
      "metadata": {
        "id": "lR5iS5G4tbMn"
      },
      "source": [
        "import pandas as pd\n",
        "import numpy as np\n",
        "import matplotlib.pyplot as plt\n",
        "from sklearn.model_selection import train_test_split\n",
        "from sklearn.linear_model import LogisticRegression\n",
        "from sklearn.metrics import accuracy_score\n",
        "from sklearn.impute import KNNImputer\n",
        "from sklearn.preprocessing import OrdinalEncoder "
      ],
      "execution_count": null,
      "outputs": []
    },
    {
      "cell_type": "code",
      "metadata": {
        "id": "FAWbxnKSuOey"
      },
      "source": [
        "train_data = pd.read_csv(\"train.csv\").drop(columns=['Date'])\n",
        "test_data = pd.read_csv('test.csv').drop(columns=['Date'])\n",
        "#cat_cols\n",
        "train_data = pd.get_dummies(train_data)\n",
        "test_data = pd.get_dummies(test_data)\n",
        "#cat_cols = train_data.keys()"
      ],
      "execution_count": null,
      "outputs": []
    },
    {
      "cell_type": "code",
      "metadata": {
        "colab": {
          "base_uri": "https://localhost:8080/"
        },
        "id": "htyn2R-RbYOk",
        "outputId": "4f0b9133-9f4d-4d7d-c13e-85edb0a942f3"
      },
      "source": [
        "len(test_data.keys())"
      ],
      "execution_count": null,
      "outputs": [
        {
          "output_type": "execute_result",
          "data": {
            "text/plain": [
              "64"
            ]
          },
          "metadata": {
            "tags": []
          },
          "execution_count": 20
        }
      ]
    },
    {
      "cell_type": "code",
      "metadata": {
        "colab": {
          "base_uri": "https://localhost:8080/"
        },
        "id": "_DbsB5S9bbF6",
        "outputId": "f2604616-40ac-48a1-bf95-0a045a339e41"
      },
      "source": [
        "len(train_data.keys())"
      ],
      "execution_count": null,
      "outputs": [
        {
          "output_type": "execute_result",
          "data": {
            "text/plain": [
              "65"
            ]
          },
          "metadata": {
            "tags": []
          },
          "execution_count": 21
        }
      ]
    },
    {
      "cell_type": "code",
      "metadata": {
        "id": "d1Qpt5kXvkHO"
      },
      "source": [
        "imputer = KNNImputer(n_neighbors=5, weights='uniform', metric='nan_euclidean')\n",
        "#encoder = OrdinalEncoder()"
      ],
      "execution_count": null,
      "outputs": []
    },
    {
      "cell_type": "code",
      "metadata": {
        "id": "mIRJccZeIDo2"
      },
      "source": [
        "#KNN find missing value\n",
        "tmp = imputer.fit_transform(train_data)"
      ],
      "execution_count": null,
      "outputs": []
    },
    {
      "cell_type": "code",
      "metadata": {
        "id": "pHwgKxMDcLs_"
      },
      "source": [
        "#imputer = KNNImputer(n_neighbors=5, weights='uniform', metric='nan_euclidean')\n",
        "tmp2 = imputer.fit_transform(test_data)"
      ],
      "execution_count": null,
      "outputs": []
    },
    {
      "cell_type": "code",
      "metadata": {
        "id": "ekzy2kpWNuc8"
      },
      "source": [
        "#tmp2 = imputer.fit_transform(test_data)"
      ],
      "execution_count": null,
      "outputs": []
    },
    {
      "cell_type": "code",
      "metadata": {
        "id": "MThYKl7sJBeT"
      },
      "source": [
        "#a = pd.DataFrame(tmp)\n",
        "encode_data = pd.DataFrame(tmp)\n",
        "encode_test_data = pd.DataFrame(tmp2)\n",
        "#tmp2['Weather'] = np.zeros((len(test_data),))\n",
        "#encode_data = tmp\n",
        "#encode_test_data = tmp2\n",
        "#test_data.keys()"
      ],
      "execution_count": null,
      "outputs": []
    },
    {
      "cell_type": "code",
      "metadata": {
        "id": "LGQKumE1y4yY"
      },
      "source": [
        "#encode_data"
      ],
      "execution_count": null,
      "outputs": []
    },
    {
      "cell_type": "code",
      "metadata": {
        "colab": {
          "base_uri": "https://localhost:8080/"
        },
        "id": "G-Stngjhbo0z",
        "outputId": "276d127f-f8fc-4824-d456-dcf7075a8f78"
      },
      "source": [
        "len(encode_test_data.keys())"
      ],
      "execution_count": null,
      "outputs": [
        {
          "output_type": "execute_result",
          "data": {
            "text/plain": [
              "113"
            ]
          },
          "metadata": {
            "tags": []
          },
          "execution_count": 8
        }
      ]
    },
    {
      "cell_type": "code",
      "metadata": {
        "id": "sU4z4tdp0-Jd"
      },
      "source": [
        "'''def encode(data):\n",
        "    #retains only non-null values\n",
        "    nonulls = np.array(data.dropna())\n",
        "    #reshapes the data for encoding\n",
        "    impute_reshape = nonulls.reshape(-1,1)\n",
        "    #encode date\n",
        "    impute_ordinal = encoder.fit_transform(impute_reshape)\n",
        "    #Assign back encoded values to non-null values\n",
        "    data.loc[data.notnull()] = np.squeeze(impute_ordinal)\n",
        "    return data\n",
        "\n",
        "#create a for loop to iterate through each column in the data\n",
        "for columns in cat_cols:\n",
        "    encode(train_data[columns])\n",
        "encode_data = pd.DataFrame(np.round(imputer.fit_transform(train_data)),columns = train_data.columns)"
      ],
      "execution_count": null,
      "outputs": []
    },
    {
      "cell_type": "code",
      "metadata": {
        "id": "Dn6nrBj0xQVI"
      },
      "source": [
        "'''#test_data['Weather'] = np.zeros((len(test_data),))\n",
        "for columns in cat_cols:\n",
        "    if columns == 'Weather':continue\n",
        "    encode(test_data[columns])\n",
        "encode_test_data = pd.DataFrame(np.round(imputer.fit_transform(test_data)),columns = test_data.columns)\n",
        "encode_test_data['Weather'] = np.zeros((len(test_data),))"
      ],
      "execution_count": null,
      "outputs": []
    },
    {
      "cell_type": "code",
      "metadata": {
        "id": "jXPuW_nc1F4X"
      },
      "source": [
        "#train_data"
      ],
      "execution_count": null,
      "outputs": []
    },
    {
      "cell_type": "code",
      "metadata": {
        "id": "NEwbK1Av1Ns4"
      },
      "source": [
        "#encode_data = pd.DataFrame(np.round(imputer.fit_transform(train_data)),columns = train_data.columns)"
      ],
      "execution_count": null,
      "outputs": []
    },
    {
      "cell_type": "code",
      "metadata": {
        "id": "9214E3sh1U5u"
      },
      "source": [
        "#encode_data\n",
        "encode_data.to_csv(r'encoded_df.csv', index = True)"
      ],
      "execution_count": null,
      "outputs": []
    },
    {
      "cell_type": "code",
      "metadata": {
        "id": "QGbZk1azx0BH"
      },
      "source": [
        "#encode_test_data = pd.DataFrame(np.round(imputer.fit_transform(test_data)),columns = test_data.columns)\n",
        "encode_test_data.to_csv(r'encoded_test_df.csv', index = True)"
      ],
      "execution_count": null,
      "outputs": []
    },
    {
      "cell_type": "code",
      "metadata": {
        "id": "PFF3yvWCqJ-G"
      },
      "source": [
        "#splitting data\n",
        "'''from sklearn.model_selection import train_test_split\n",
        "\n",
        "train_end_index = len(encode_data)\n",
        "encode_data_concat = pd.concat([encode_data,encode_test_data],sort=False)\n",
        "\n",
        "x_train, x_val, y_train, y_val = train_test_split(\n",
        "    encode_data_concat.drop(columns=['Weather']).values[:train_end_index,:],\n",
        "    encode_data_concat['Weather'].values[:train_end_index],\n",
        "    test_size = 0.5,\n",
        "    shuffle = True\n",
        ")\n",
        "\n",
        "x_test = encode_data_concat.drop(columns=['Weather']).values[train_end_index:,:]"
      ],
      "execution_count": null,
      "outputs": []
    },
    {
      "cell_type": "code",
      "metadata": {
        "colab": {
          "base_uri": "https://localhost:8080/"
        },
        "id": "XaK8udFxN-N5",
        "outputId": "3fc5fa84-ae6b-447a-c449-e94523521b2f"
      },
      "source": [
        "from sklearn.model_selection import train_test_split\n",
        "x_train, x_val, y_train, y_val = train_test_split(\n",
        "    encode_data.drop(columns=[15]).values,\n",
        "    encode_data[15].values,\n",
        "    test_size = 0.1,\n",
        "    #shuffle = True\n",
        ")\n",
        "x_test = encode_test_data.values\n",
        "#x_train = encode_data.drop(columns=[15]).values\n",
        "#y_train = encode_data[15].values\n",
        "#dealing imbalance\n",
        "from imblearn.over_sampling import SMOTE\n",
        "sm = SMOTE(random_state = 42)\n",
        "x_train,y_train = sm.fit_resample(x_train,y_train)"
      ],
      "execution_count": null,
      "outputs": [
        {
          "output_type": "stream",
          "text": [
            "/usr/local/lib/python3.7/dist-packages/sklearn/utils/deprecation.py:87: FutureWarning: Function safe_indexing is deprecated; safe_indexing is deprecated in version 0.22 and will be removed in version 0.24.\n",
            "  warnings.warn(msg, category=FutureWarning)\n"
          ],
          "name": "stderr"
        }
      ]
    },
    {
      "cell_type": "code",
      "metadata": {
        "colab": {
          "base_uri": "https://localhost:8080/",
          "height": 415
        },
        "id": "BMJuDe93bIah",
        "outputId": "d76d9f8b-cd69-421a-f387-dba388da782f"
      },
      "source": [
        "#encode_test_data\n",
        "pd.DataFrame(y_train)"
      ],
      "execution_count": null,
      "outputs": [
        {
          "output_type": "execute_result",
          "data": {
            "text/html": [
              "<div>\n",
              "<style scoped>\n",
              "    .dataframe tbody tr th:only-of-type {\n",
              "        vertical-align: middle;\n",
              "    }\n",
              "\n",
              "    .dataframe tbody tr th {\n",
              "        vertical-align: top;\n",
              "    }\n",
              "\n",
              "    .dataframe thead th {\n",
              "        text-align: right;\n",
              "    }\n",
              "</style>\n",
              "<table border=\"1\" class=\"dataframe\">\n",
              "  <thead>\n",
              "    <tr style=\"text-align: right;\">\n",
              "      <th></th>\n",
              "      <th>0</th>\n",
              "    </tr>\n",
              "  </thead>\n",
              "  <tbody>\n",
              "    <tr>\n",
              "      <th>0</th>\n",
              "      <td>0.0</td>\n",
              "    </tr>\n",
              "    <tr>\n",
              "      <th>1</th>\n",
              "      <td>0.0</td>\n",
              "    </tr>\n",
              "    <tr>\n",
              "      <th>2</th>\n",
              "      <td>0.0</td>\n",
              "    </tr>\n",
              "    <tr>\n",
              "      <th>3</th>\n",
              "      <td>0.0</td>\n",
              "    </tr>\n",
              "    <tr>\n",
              "      <th>4</th>\n",
              "      <td>0.0</td>\n",
              "    </tr>\n",
              "    <tr>\n",
              "      <th>...</th>\n",
              "      <td>...</td>\n",
              "    </tr>\n",
              "    <tr>\n",
              "      <th>56661</th>\n",
              "      <td>1.0</td>\n",
              "    </tr>\n",
              "    <tr>\n",
              "      <th>56662</th>\n",
              "      <td>1.0</td>\n",
              "    </tr>\n",
              "    <tr>\n",
              "      <th>56663</th>\n",
              "      <td>1.0</td>\n",
              "    </tr>\n",
              "    <tr>\n",
              "      <th>56664</th>\n",
              "      <td>1.0</td>\n",
              "    </tr>\n",
              "    <tr>\n",
              "      <th>56665</th>\n",
              "      <td>1.0</td>\n",
              "    </tr>\n",
              "  </tbody>\n",
              "</table>\n",
              "<p>56666 rows × 1 columns</p>\n",
              "</div>"
            ],
            "text/plain": [
              "         0\n",
              "0      0.0\n",
              "1      0.0\n",
              "2      0.0\n",
              "3      0.0\n",
              "4      0.0\n",
              "...    ...\n",
              "56661  1.0\n",
              "56662  1.0\n",
              "56663  1.0\n",
              "56664  1.0\n",
              "56665  1.0\n",
              "\n",
              "[56666 rows x 1 columns]"
            ]
          },
          "metadata": {
            "tags": []
          },
          "execution_count": 56
        }
      ]
    },
    {
      "cell_type": "code",
      "metadata": {
        "id": "wjOdOpdR4aMk"
      },
      "source": [
        "#decision\n",
        "from sklearn.tree import DecisionTreeClassifier\n",
        "DecisionTreeClassifier_model = DecisionTreeClassifier()\n",
        "DecisionTreeClassifier_model.fit(x_train,y_train)\n",
        "model = DecisionTreeClassifier_model "
      ],
      "execution_count": null,
      "outputs": []
    },
    {
      "cell_type": "code",
      "metadata": {
        "id": "hcv0wf5e82b1"
      },
      "source": [
        "#random forest\n",
        "from sklearn.ensemble import RandomForestClassifier\n",
        "RandomForestClassifier_model = RandomForestClassifier(verbose=2)\n",
        "RandomForestClassifier_model.fit(x_train,y_train)\n",
        "model = RandomForestClassifier_model"
      ],
      "execution_count": null,
      "outputs": []
    },
    {
      "cell_type": "code",
      "metadata": {
        "id": "u5FtOTIF-JI2"
      },
      "source": [
        "#KNC\n",
        "from sklearn.neighbors import KNeighborsClassifier\n",
        "KNeighborsClassifier_model = KNeighborsClassifier(n_neighbors=5)\n",
        "KNeighborsClassifier_model.fit(x_train,y_train)\n",
        "model = KNeighborsClassifier_model"
      ],
      "execution_count": null,
      "outputs": []
    },
    {
      "cell_type": "code",
      "metadata": {
        "colab": {
          "base_uri": "https://localhost:8080/"
        },
        "id": "A8CayKzT-rKX",
        "outputId": "68a409c9-f2fe-4e80-caee-511e4ff9475b"
      },
      "source": [
        "#SVM\n",
        "from sklearn.svm import SVC\n",
        "from sklearn.pipeline import make_pipeline\n",
        "from sklearn.preprocessing import StandardScaler\n",
        "SVC_model = SVC(gamma='auto',verbose=2)\n",
        "SVC_model.fit(x_train,y_train)\n",
        "model = SVC_model"
      ],
      "execution_count": null,
      "outputs": [
        {
          "output_type": "stream",
          "text": [
            "[LibSVM]"
          ],
          "name": "stdout"
        }
      ]
    },
    {
      "cell_type": "code",
      "metadata": {
        "id": "8HWzH4LXE2D_"
      },
      "source": [
        "from lightgbm import LGBMClassifier\n",
        "LGBMClassifier_model = LGBMClassifier(objective='binary')\n",
        "LGBMClassifier_model.fit(x_train,y_train)\n",
        "model = LGBMClassifier_model  "
      ],
      "execution_count": null,
      "outputs": []
    },
    {
      "cell_type": "code",
      "metadata": {
        "id": "z1HgekfWi_Mu"
      },
      "source": [
        "import numpy as np\n",
        "from sklearn.linear_model import SGDClassifier\n",
        "from sklearn.preprocessing import StandardScaler\n",
        "from sklearn.pipeline import make_pipeline\n",
        "SGD_model = make_pipeline(StandardScaler(),SGDClassifier(max_iter=1000, tol=1e-3,alpha=0.01))\n",
        "SGD_model.fit(x_train, y_train)\n",
        "model = SGD_model\n"
      ],
      "execution_count": null,
      "outputs": []
    },
    {
      "cell_type": "code",
      "metadata": {
        "colab": {
          "base_uri": "https://localhost:8080/"
        },
        "id": "BjuqyU17m3hY",
        "outputId": "517e2714-1365-4c70-aa9d-e9c96d283ed9"
      },
      "source": [
        "from xgboost.sklearn import XGBClassifier\n",
        "from sklearn import metrics\n",
        "from xgboost.sklearn import XGBClassifier\n",
        "XGB_model = XGBClassifier(learning_rate=0.1,reg_alpha=1,n_estimators=100)\n",
        "XGB_model.fit(x_train,y_train,eval_metric='auc',verbose=2)"
      ],
      "execution_count": null,
      "outputs": [
        {
          "output_type": "execute_result",
          "data": {
            "text/plain": [
              "XGBClassifier(base_score=0.5, booster='gbtree', colsample_bylevel=1,\n",
              "              colsample_bynode=1, colsample_bytree=1, gamma=0,\n",
              "              learning_rate=0.1, max_delta_step=0, max_depth=3,\n",
              "              min_child_weight=1, missing=None, n_estimators=100, n_jobs=1,\n",
              "              nthread=None, objective='binary:logistic', random_state=0,\n",
              "              reg_alpha=1, reg_lambda=1, scale_pos_weight=1, seed=None,\n",
              "              silent=None, subsample=1, verbosity=1)"
            ]
          },
          "metadata": {
            "tags": []
          },
          "execution_count": 136
        }
      ]
    },
    {
      "cell_type": "code",
      "metadata": {
        "colab": {
          "base_uri": "https://localhost:8080/"
        },
        "id": "4rViutcR49TQ",
        "outputId": "75949a57-916d-469c-c0ff-6b1164902660"
      },
      "source": [
        "from sklearn.metrics import accuracy_score, f1_score\n",
        "from xgboost.sklearn import XGBClassifier\n",
        "from sklearn import metrics\n",
        "from xgboost.sklearn import XGBClassifier\n",
        "from sklearn.model_selection import train_test_split\n",
        "model = LGBMClassifier_model\n",
        "#for validation data\n",
        "print(\"Validation data: \")\n",
        "y_pred = model.predict(x_val)\n",
        "print(\"Accuaracy: %f\" % accuracy_score(y_val, y_pred))\n",
        "print(\"F1-score: %f\" % f1_score(y_val, y_pred))\n",
        "print(\"Training data: \")\n",
        "y_pred = model.predict(x_train)\n",
        "print(\"Accuaracy: %f\" % accuracy_score(y_train, y_pred))\n",
        "print(\"F1-score: %f\" % f1_score(y_train, y_pred))\n",
        "print(\"====================\")\n",
        "\n",
        "#for testing data\n",
        "#print(\"Testing data:\")\n",
        "#y_test = pd.read_csv(\"output_df.csv\")\n",
        "#y_test = y_test['Weather'].values\n",
        "\n",
        "y_pred = model.predict(x_test)\n",
        "#print(\"Accuaracy: %f\" % accuracy_score(y_test, y_pred))\n",
        "#print(\"F1-score: %f\" % f1_score(y_test, y_pred))\n",
        "\n",
        "#same_n = 0\n",
        "#for i,j in zip(y_pred,y_test):\n",
        " # if i==j: same_n+=1\n",
        "#print(\"my acc: \", same_n/len(y_pred))\n",
        "\n",
        "#output sunbmission\n",
        "list_id = list(range(len(y_pred)))\n",
        "df = {'Id':list_id, 'Weather': list(map(bool,y_pred))}\n",
        "output_df = pd.DataFrame(data=df)\n",
        "output_df.to_csv(r'output_df_xgb.csv', index = False)"
      ],
      "execution_count": null,
      "outputs": [
        {
          "output_type": "stream",
          "text": [
            "Validation data: \n",
            "Accuaracy: 0.903299\n",
            "F1-score: 0.388489\n",
            "Training data: \n",
            "Accuaracy: 0.949674\n",
            "F1-score: 0.948045\n",
            "====================\n"
          ],
          "name": "stdout"
        }
      ]
    },
    {
      "cell_type": "code",
      "metadata": {
        "id": "N4zJoduNGOKe"
      },
      "source": [
        ""
      ],
      "execution_count": null,
      "outputs": []
    }
  ]
}